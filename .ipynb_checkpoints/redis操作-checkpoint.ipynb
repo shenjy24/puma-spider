{
 "cells": [
  {
   "cell_type": "markdown",
   "id": "e02aa909-95a5-4bd5-bafa-776783851758",
   "metadata": {},
   "source": [
    "### 1. 初始化连接"
   ]
  },
  {
   "cell_type": "code",
   "execution_count": 2,
   "id": "2c667c98-7447-4382-9551-a7f11b0e1f47",
   "metadata": {
    "tags": []
   },
   "outputs": [],
   "source": [
    "import redis\n",
    "client = redis.StrictRedis(host='127.0.0.1', port=6379)"
   ]
  },
  {
   "cell_type": "markdown",
   "id": "26355e04-353f-4894-b0ac-0f5ff3588def",
   "metadata": {},
   "source": [
    "### 2. 列表操作"
   ]
  },
  {
   "cell_type": "code",
   "execution_count": 4,
   "id": "72b3daee-924f-4bc3-8cff-6c1b2a3c8a27",
   "metadata": {
    "tags": []
   },
   "outputs": [
    {
     "data": {
      "text/plain": [
       "2"
      ]
     },
     "execution_count": 4,
     "metadata": {},
     "output_type": "execute_result"
    }
   ],
   "source": [
    "client.lpush('spider', 123)\n",
    "client.llen('spider')"
   ]
  },
  {
   "cell_type": "code",
   "execution_count": 5,
   "id": "7bba39e1-23a8-42eb-90d5-c35659c0e075",
   "metadata": {
    "tags": []
   },
   "outputs": [],
   "source": [
    "value = client.lpop('spider')"
   ]
  },
  {
   "cell_type": "markdown",
   "id": "d79c2882-02e0-4acd-83ef-d1aa2e5cbaf6",
   "metadata": {},
   "source": [
    "### 3. 集合操作"
   ]
  },
  {
   "cell_type": "code",
   "execution_count": 7,
   "id": "d4fc6dc1-5839-4cc5-88bf-fa4891e06127",
   "metadata": {
    "tags": []
   },
   "outputs": [
    {
     "name": "stdout",
     "output_type": "stream",
     "text": [
      "b'www.baidu.com'\n",
      "1\n"
     ]
    }
   ],
   "source": [
    "key = 'spider_set'\n",
    "client.sadd(key, 'www.baidu.com')\n",
    "client.sadd(key, 'www.google.com')\n",
    "url = client.spop(key)\n",
    "print(url)\n",
    "length = client.scard(key)\n",
    "print(length)"
   ]
  },
  {
   "cell_type": "code",
   "execution_count": null,
   "id": "fec34e62-0068-43ca-9ef3-c2624a879cfb",
   "metadata": {},
   "outputs": [],
   "source": []
  }
 ],
 "metadata": {
  "kernelspec": {
   "display_name": "Python 3 (ipykernel)",
   "language": "python",
   "name": "python3"
  },
  "language_info": {
   "codemirror_mode": {
    "name": "ipython",
    "version": 3
   },
   "file_extension": ".py",
   "mimetype": "text/x-python",
   "name": "python",
   "nbconvert_exporter": "python",
   "pygments_lexer": "ipython3",
   "version": "3.10.11"
  }
 },
 "nbformat": 4,
 "nbformat_minor": 5
}
