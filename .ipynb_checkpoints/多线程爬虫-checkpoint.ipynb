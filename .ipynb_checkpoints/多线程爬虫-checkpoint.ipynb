{
 "cells": [
  {
   "cell_type": "markdown",
   "id": "6f0c79f6-f0f8-4cfc-8f81-197dbbcf88ee",
   "metadata": {},
   "source": [
    "multiprocessing本身是Python的多进程库，用来处理与多进程相关的操作。但是由于进程与进程之间不能直接共享内存和堆栈资源，而且启动新的进程开销也比线程大得多，因此使用多线程来爬取比使用多进程有更多的优势。multiprocessing下面有一个dummy模块，它可以让Python的线程使用multiprocessing的各种方法。\n",
    "\n",
    "dummy下面有一个Pool类，它用来实现线程池。这个线程池有一个map()方法，可以让线程池里面的所有线程都“同时”执行一个函数。"
   ]
  },
  {
   "cell_type": "markdown",
   "id": "a5468e46-0a8b-4ffc-8250-ff947fce0f96",
   "metadata": {},
   "source": [
    "### 1. 简单示例"
   ]
  },
  {
   "cell_type": "code",
   "execution_count": 1,
   "id": "bfc26aed-e60d-4b79-8a02-99d3beae1ecd",
   "metadata": {
    "tags": []
   },
   "outputs": [
    {
     "name": "stdout",
     "output_type": "stream",
     "text": [
      "计算0-9的平方分别为：[0, 1, 4, 9, 16, 25, 36, 49, 64, 81]\n"
     ]
    }
   ],
   "source": [
    "from multiprocessing.dummy import Pool\n",
    "\n",
    "# 计算平方\n",
    "def calc_power2(num):\n",
    "    return num * num\n",
    "# 初始化3个线程的线程池\n",
    "pool = Pool(3)\n",
    "origin_num = [x for x in range(10)]\n",
    "result = pool.map(calc_power2, origin_num)\n",
    "print(f'计算0-9的平方分别为：{result}')"
   ]
  },
  {
   "cell_type": "markdown",
   "id": "6d1b79a9-ff28-4466-9276-83c96f1a9753",
   "metadata": {},
   "source": [
    "### 2. 开放多线程爬虫"
   ]
  },
  {
   "cell_type": "markdown",
   "id": "bb666e52-f1d6-4fe4-8324-0dc2160ddc82",
   "metadata": {},
   "source": [
    "爬虫是I/O密集型的操作，特别是在请求网页源代码的时候，如果使用单线程来开发，会浪费大量的时间来等待网页返回，所以把多线程技术应用到爬虫中，可以大大提高爬虫的运行效率。"
   ]
  },
  {
   "cell_type": "markdown",
   "id": "faaf66f8-82ed-4151-996e-a99695613ac3",
   "metadata": {},
   "source": [
    "#### （1）使用单线程循环访问百度首页100，计算总时间"
   ]
  },
  {
   "cell_type": "code",
   "execution_count": 2,
   "id": "369b1273-7049-40cf-9979-a0088c90b6de",
   "metadata": {
    "tags": []
   },
   "outputs": [
    {
     "name": "stdout",
     "output_type": "stream",
     "text": [
      "单线程循环访问100次百度首页，耗时：56.42745542526245\n"
     ]
    }
   ],
   "source": [
    "import requests\n",
    "import time\n",
    "\n",
    "def query(url):\n",
    "    requests.get(url)\n",
    "url = 'https://baidu.com'\n",
    "start = time.time()\n",
    "for i in range(100):\n",
    "    query(url)\n",
    "end = time.time()\n",
    "print(f'单线程循环访问100次百度首页，耗时：{end - start}')"
   ]
  },
  {
   "cell_type": "markdown",
   "id": "7718a1bb-9432-4f57-9a6a-fd9e466dec17",
   "metadata": {},
   "source": [
    "#### (2) 使用5个线程访问100次百度首页，计算总时间"
   ]
  },
  {
   "cell_type": "code",
   "execution_count": 3,
   "id": "c40d5555-3c3d-4dfd-aff3-d35cc36c2907",
   "metadata": {
    "tags": []
   },
   "outputs": [
    {
     "name": "stdout",
     "output_type": "stream",
     "text": [
      "5线程循环访问100次百度首页，耗时：13.107457399368286\n"
     ]
    }
   ],
   "source": [
    "start = time.time()\n",
    "url_list = []\n",
    "for i in range(100):\n",
    "    url_list.append(url)\n",
    "pool = Pool(5)\n",
    "pool.map(query, url_list)\n",
    "end = time.time()\n",
    "print(f'5线程循环访问100次百度首页，耗时：{end - start}')"
   ]
  },
  {
   "cell_type": "markdown",
   "id": "887b845f-40ac-4116-8669-634673f280f3",
   "metadata": {},
   "source": [
    "#### 线程池并不是设置得越大越好。从上面的结果也可以看到，5个线程运行的时间其实比一个线程运行时间的五分之一要多一点。这多出来的一点其实就是线程切换的时间。这也从侧面反映了Python的多线程在微观上还是串行的。因此，如果线程池设置得过大，线程切换导致的开销可能会抵消多线程带来的性能提升。线程池的大小需要根据实际情况来确定，并没有确切的数据。"
   ]
  }
 ],
 "metadata": {
  "kernelspec": {
   "display_name": "Python 3 (ipykernel)",
   "language": "python",
   "name": "python3"
  },
  "language_info": {
   "codemirror_mode": {
    "name": "ipython",
    "version": 3
   },
   "file_extension": ".py",
   "mimetype": "text/x-python",
   "name": "python",
   "nbconvert_exporter": "python",
   "pygments_lexer": "ipython3",
   "version": "3.10.11"
  }
 },
 "nbformat": 4,
 "nbformat_minor": 5
}
