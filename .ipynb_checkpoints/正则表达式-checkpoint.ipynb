{
 "cells": [
  {
   "cell_type": "code",
   "execution_count": 14,
   "id": "35f28874-b1aa-4014-8102-abab3daed3a4",
   "metadata": {
    "tags": []
   },
   "outputs": [],
   "source": [
    "import re"
   ]
  },
  {
   "cell_type": "markdown",
   "id": "fcf15702-65b4-4417-b3dc-4e7ed8190b68",
   "metadata": {},
   "source": [
    "## 一. 相关方法"
   ]
  },
  {
   "cell_type": "markdown",
   "id": "07478327-5f1e-43bf-86cb-e8ba803880bc",
   "metadata": {},
   "source": [
    "### 1. findall\n",
    "Python的正则表达式模块包含一个findall方法，它能够以列表的形式返回所有满足要求的字符串。"
   ]
  },
  {
   "cell_type": "code",
   "execution_count": 4,
   "id": "97643909-daa6-46bd-af93-5c4566252e10",
   "metadata": {
    "tags": []
   },
   "outputs": [
    {
     "name": "stdout",
     "output_type": "stream",
     "text": [
      "找到内容，返回：['123456', '33445566', '88888888', '999abc999']\n",
      "找不到任何内容，返回：[]\n"
     ]
    }
   ],
   "source": [
    "content = '我的微博密码是：123456，QQ密码是：33445566，银行卡密码是：88888888，GitHub密码是：999abc999，帮我记住它们'\n",
    "\n",
    "password_list = re.findall('：(.*?)，', content)\n",
    "name_list = re.findall('名字是(.*?)，', content)\n",
    "print('找到内容，返回：{}'.format(password_list))\n",
    "print('找不到任何内容，返回：{}'.format(name_list))"
   ]
  },
  {
   "cell_type": "code",
   "execution_count": 5,
   "id": "4b883660-7494-4c93-b52d-37799a9c0c76",
   "metadata": {
    "tags": []
   },
   "outputs": [
    {
     "name": "stdout",
     "output_type": "stream",
     "text": [
      "包含多个括号的情况下，返回：[('kingname', '123456'), ('99999', '33445566'), ('000001', '654321'), ('99999@qq.com', '999abc999')]\n"
     ]
    }
   ],
   "source": [
    "content = '微博账户是：kingname，密码是：123456，QQ账户是：99999，密码是：33445566，银行卡账户是：000001，密码是：654321，GitHub账户是：99999@qq.com，密码是：999abc999，帮我记住它们'\n",
    "\n",
    "account_password = re.findall('账户是：(.*?)，密码是：(.*?)，', content)\n",
    "print('包含多个括号的情况下，返回：{}'.format(account_password))"
   ]
  },
  {
   "cell_type": "code",
   "execution_count": 8,
   "id": "edc0ccc1-3cfe-4c49-98b5-c90a95677604",
   "metadata": {
    "tags": []
   },
   "outputs": [
    {
     "name": "stdout",
     "output_type": "stream",
     "text": [
      "不使用re.S的时候：[]\n",
      "使用re.S的时候：['123\\n45678']\n"
     ]
    }
   ],
   "source": [
    "# re.S 会忽略换行符\n",
    "big_string_mutil = '''\n",
    "我是kingname，我的微博密码是：123\n",
    "45678，\n",
    "'''\n",
    "password_findall_no_flag = re.findall('密码是：(.*?)，', big_string_mutil)\n",
    "password_findall_flag = re.findall('密码是：(.*?)，', big_string_mutil, re.S)\n",
    "print('不使用re.S的时候：{}'.format(password_findall_no_flag))\n",
    "print('使用re.S的时候：{}'.format(password_findall_flag))"
   ]
  },
  {
   "cell_type": "markdown",
   "id": "9e422be2-6502-4060-9604-a8219ef4e1b1",
   "metadata": {},
   "source": [
    "### 2. search\n",
    "search()的用法和findall()的用法一样，但是search()只会返回第1个满足要求的字符串。一旦找到符合要求的内容，它就会停止查找。对于从超级大的文本里面只找第1个数据特别有用，可以大大提高程序的运行效率。"
   ]
  },
  {
   "cell_type": "code",
   "execution_count": 9,
   "id": "722bd5e7-6a9b-4ca7-9679-3c8d8366779c",
   "metadata": {
    "tags": []
   },
   "outputs": [
    {
     "name": "stdout",
     "output_type": "stream",
     "text": [
      "<re.Match object; span=(4, 15), match='密码是：123456，'>\n",
      "密码是：123456，\n",
      "密码是：123456，\n",
      "123456\n",
      "None\n"
     ]
    }
   ],
   "source": [
    "content = '我的微博密码是：123456，QQ密码是：33445566，银行卡密码是：88888888，GitHub密码是：999abc999，帮我记住它们'\n",
    "\n",
    "password_search = re.search('密码是：(.*?)，', content)\n",
    "password_search_not_find = re.search('xxx：(.*?)，', content)\n",
    "print(password_search)\n",
    "print(password_search.group())\n",
    "print(password_search.group(0))\n",
    "print(password_search.group(1))\n",
    "print(password_search_not_find)"
   ]
  },
  {
   "cell_type": "markdown",
   "id": "4d744c80-81b2-49ae-896e-fca1c549bd35",
   "metadata": {},
   "source": [
    "##### group()的参数最大不能超过正则表达式里面括号的个数。参数为1表示读取第1个括号中的内容，参数为2表示读取第2个括号中的内容，以此类推"
   ]
  },
  {
   "cell_type": "code",
   "execution_count": 12,
   "id": "d7abefa1-834e-4896-9230-4b010ea5fdc9",
   "metadata": {
    "tags": []
   },
   "outputs": [
    {
     "name": "stdout",
     "output_type": "stream",
     "text": [
      "读取第一个括号的内容：kingname\n",
      "读取第二个括号的内容：123456\n"
     ]
    }
   ],
   "source": [
    "content = '微博账户是：kingname，密码是：123456，QQ账户是：99999，密码是：33445566，银行卡账户是：000001，密码是：654321，GitHub账户是：99999@qq.com，密码是：999abc999，帮我记住它们'\n",
    "\n",
    "account_password = re.search('账户是：(.*?)，密码是：(.*?)，', content)\n",
    "print('读取第一个括号的内容：{}'.format(account_password.group(1)))\n",
    "print('读取第二个括号的内容：{}'.format(account_password.group(2)))"
   ]
  },
  {
   "cell_type": "markdown",
   "id": "a646074b-8c91-4d08-b87c-e9cfcabd0054",
   "metadata": {},
   "source": [
    "### 3 .* 和 .*? 的区别\n",
    "点号表示任意非换行符的字符，星号表示匹配它前面的字符0次或者任意多次。所以“.*”表示匹配一串任意长度的字符串任意次。这个时候必须在“.*”的前后加其他的符号来限定范围，否则得到的结果就是原来的整个字符串。"
   ]
  },
  {
   "cell_type": "markdown",
   "id": "796db591-f7e5-46fd-87e9-f79c85550d75",
   "metadata": {},
   "source": [
    "如果在“.*”的后面加一个问号，变成“.*? ”，那么可以得到什么样的结果呢？问号表示匹配它前面的符号0次或者1次。于是．*？的意思就是匹配一个能满足要求的最短字符串。"
   ]
  },
  {
   "cell_type": "code",
   "execution_count": 13,
   "id": "77d41f23-8fc8-40cd-adb2-0eb5a71db7d7",
   "metadata": {
    "tags": []
   },
   "outputs": [
    {
     "name": "stdout",
     "output_type": "stream",
     "text": [
      "不使用问号的结果：['123456，QQ密码是：33445566，银行卡密码是：88888888，GitHub密码是：999abc999']，长度为：1\n",
      "使用问号的结果：['123456', '33445566', '88888888', '999abc999']，长度为：4\n"
     ]
    }
   ],
   "source": [
    "content = '我的微博密码是：123456，QQ密码是：33445566，银行卡密码是：88888888，GitHub密码是：999abc999，帮我记住它们'\n",
    "\n",
    "without_question_mark = re.findall('密码是：(.*)，', content)\n",
    "with_question_mark = re.findall('密码是：(.*?)，', content)\n",
    "print('不使用问号的结果：{}，长度为：{}'.format(without_question_mark, len(without_question_mark)))\n",
    "print('使用问号的结果：{}，长度为：{}'.format(with_question_mark, len(with_question_mark)))"
   ]
  },
  {
   "cell_type": "markdown",
   "id": "5ad74810-4745-42a7-ab70-62981ca6a873",
   "metadata": {},
   "source": [
    "#### 一句话总结如下。\n",
    "- “.*”：贪婪模式，获取最长的满足条件的字符串。\n",
    "- “.*? ”：非贪婪模式，获取最短的能满足条件的字符串。"
   ]
  },
  {
   "cell_type": "markdown",
   "id": "d290aab8-b3ab-45cf-88f8-5ff25ef1c9d3",
   "metadata": {},
   "source": [
    "## 二. 正则技巧"
   ]
  },
  {
   "cell_type": "markdown",
   "id": "613ce2e1-a353-4736-a7b7-c25a92f6b0f5",
   "metadata": {},
   "source": [
    "### 1. 先抓大后抓小"
   ]
  },
  {
   "cell_type": "code",
   "execution_count": 16,
   "id": "eaa27577-3d72-4089-bb32-7868a81c1fa7",
   "metadata": {
    "tags": []
   },
   "outputs": [
    {
     "name": "stdout",
     "output_type": "stream",
     "text": [
      "user_big 的值为：['：\\n姓名：张三\\n姓名：李四\\n姓名：王五\\n']\n",
      "真正有效的人名：['张三', '李四', '王五']\n"
     ]
    }
   ],
   "source": [
    "big_small_text = '''\n",
    "有效用户：\n",
    "姓名：张三\n",
    "姓名：李四\n",
    "姓名：王五\n",
    "无效用户：\n",
    "姓名：不知名的小虾米\n",
    "姓名：隐身的张大侠\n",
    "'''\n",
    "user_big = re.findall('有效用户(.*?)无效用户', big_small_text, re.S)\n",
    "print('user_big 的值为：{}'.format(user_big))\n",
    "\n",
    "user_useful = re.findall('姓名：(.*?)\\n', user_big[0])\n",
    "print('真正有效的人名：{}'.format(user_useful))"
   ]
  },
  {
   "cell_type": "markdown",
   "id": "fe32fad4-80db-48b5-bec8-dd4d4d14e950",
   "metadata": {},
   "source": [
    "### 2. 括号内和括号外\n",
    "\n",
    "在上面的例子中，括号和“.*? ”都是一起使用的，因此可能会有读者认为括号内只能有这3种字符，不能有其他普通的字符。但实际上，括号内也可以有其他字符。"
   ]
  },
  {
   "cell_type": "code",
   "execution_count": 19,
   "id": "6e446865-8a07-44c0-be59-8a74abad10d8",
   "metadata": {
    "tags": []
   },
   "outputs": [
    {
     "name": "stdout",
     "output_type": "stream",
     "text": [
      "括号里只有.*?时，得到的结果：['客户端', '2024.02.20 13:45:00']\n",
      "2024在括号外面时，得到的结果：['.02.20 13:45:00']\n",
      "2024在括号里面时，得到的结果：['2024.02.20 13:45:00']\n"
     ]
    }
   ],
   "source": [
    "html = '''<div class=\"tail-info\">客户端</div>\n",
    "<div class=\"tail-info\">2024.02.20 13:45:00</div>\n",
    "'''\n",
    "result_1 = re.findall('tail-info\">(.*?)<', html)\n",
    "result_2 = re.findall('tail-info\">2024(.*?)<', html)\n",
    "result_3 = re.findall('tail-info\">(2024.*?)<', html)\n",
    "\n",
    "print('括号里只有.*?时，得到的结果：{}'.format(result_1))\n",
    "print('2024在括号外面时，得到的结果：{}'.format(result_2))\n",
    "print('2024在括号里面时，得到的结果：{}'.format(result_3))"
   ]
  },
  {
   "cell_type": "code",
   "execution_count": null,
   "id": "e15555d3-196e-4a33-8c0d-6f09f8c9e82d",
   "metadata": {},
   "outputs": [],
   "source": []
  }
 ],
 "metadata": {
  "kernelspec": {
   "display_name": "Python 3 (ipykernel)",
   "language": "python",
   "name": "python3"
  },
  "language_info": {
   "codemirror_mode": {
    "name": "ipython",
    "version": 3
   },
   "file_extension": ".py",
   "mimetype": "text/x-python",
   "name": "python",
   "nbconvert_exporter": "python",
   "pygments_lexer": "ipython3",
   "version": "3.10.11"
  }
 },
 "nbformat": 4,
 "nbformat_minor": 5
}
