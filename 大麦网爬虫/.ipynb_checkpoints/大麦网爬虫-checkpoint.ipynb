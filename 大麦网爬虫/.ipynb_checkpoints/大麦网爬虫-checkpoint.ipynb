{
 "cells": [
  {
   "cell_type": "code",
   "execution_count": 53,
   "id": "4aec7378-90a6-4495-a89b-dad77cb4c155",
   "metadata": {
    "tags": []
   },
   "outputs": [],
   "source": [
    "import requests\n",
    "import lxml.html\n",
    "import csv\n",
    "import json"
   ]
  },
  {
   "cell_type": "code",
   "execution_count": 52,
   "id": "a183216a-bf0c-4633-8b1d-191b014a1dfe",
   "metadata": {
    "tags": []
   },
   "outputs": [],
   "source": [
    "url = 'https://www.damai.cn'\n",
    "headers = {'User-agent':'Mozilla/5.0 (Windows NT 10.0; Win64; x64) AppleWebKit/537.36 (KHTML, like Gecko) Chrome/122.0.0.0 Safari/537.36'}\n",
    "source = requests.get(url, headers=headers).content.decode()\n",
    "selector = lxml.html.fromstring(source)"
   ]
  },
  {
   "cell_type": "code",
   "execution_count": 32,
   "id": "d435ebc7-3176-4ed7-ba6f-281fccb781cd",
   "metadata": {
    "tags": []
   },
   "outputs": [
    {
     "name": "stdout",
     "output_type": "stream",
     "text": [
      "[{'href': 'https://search.damai.cn/search.htm?ctl=%E6%BC%94%E5%94%B1%E4%BC%9A&order=1&cty=%E5%8C%97%E4%BA%AC', 'category': '演唱会'}, {'href': 'https://search.damai.cn/search.htm?ctl=%E8%AF%9D%E5%89%A7%E6%AD%8C%E5%89%A7&order=1&cty=%E5%8C%97%E4%BA%AC', 'category': '话剧歌剧'}, {'href': 'https://search.damai.cn/search.htm?ctl=%E4%BD%93%E8%82%B2&order=1&cty=%E5%8C%97%E4%BA%AC', 'category': '体育'}, {'href': 'https://search.damai.cn/search.htm?tn=%E5%84%BF%E7%AB%A5%E4%BA%B2%E5%AD%90&order=1&cty=%E5%8C%97%E4%BA%AC', 'category': '儿童亲子'}, {'href': 'https://search.damai.cn/search.htm?ctl=%E5%B1%95%E8%A7%88%E4%BC%91%E9%97%B2&order=1&cty=%E5%8C%97%E4%BA%AC', 'category': '展览休闲'}, {'href': 'https://search.damai.cn/search.htm?ctl=%E9%9F%B3%E4%B9%90%E4%BC%9A&order=1&cty=%E5%8C%97%E4%BA%AC', 'category': '音乐会'}, {'href': 'https://search.damai.cn/search.htm?ctl=%E6%9B%B2%E8%8B%91%E6%9D%82%E5%9D%9B&order=1&cty=%E5%8C%97%E4%BA%AC', 'category': '曲苑杂坛'}, {'href': 'https://search.damai.cn/search.htm?ctl=%E8%88%9E%E8%B9%88%E8%8A%AD%E8%95%BE&order=1&cty=%E5%8C%97%E4%BA%AC', 'category': '舞蹈芭蕾'}, {'href': 'https://search.damai.cn/search.htm?tn=%E4%BA%8C%E6%AC%A1%E5%85%83&order=1&cty=%E5%8C%97%E4%BA%AC', 'category': '二次元'}, {'href': 'https://search.damai.cn/search.htm?tn=%E6%97%85%E6%B8%B8%E5%B1%95%E8%A7%88&order=1&cty=%E5%8C%97%E4%BA%AC', 'category': '旅游展览'}]\n"
     ]
    }
   ],
   "source": [
    "category_list = selector.xpath('//div[@class=\"category w1200\"]/a')\n",
    "categories = []\n",
    "for category in category_list:\n",
    "    href = 'https:' + category.xpath('@href')[0]\n",
    "    category_info = category.xpath('p[@class=\"category__info\"]/text()')[0]\n",
    "    categoty_item = {'href': href, 'category': category_info}\n",
    "    categories.append(categoty_item)\n",
    "print(categories)"
   ]
  },
  {
   "cell_type": "code",
   "execution_count": 46,
   "id": "683cc47c-4361-4657-9252-1e526fa93995",
   "metadata": {
    "tags": []
   },
   "outputs": [
    {
     "name": "stdout",
     "output_type": "stream",
     "text": [
      "{'href': 'https://search.damai.cn/search.htm?ctl=%E6%BC%94%E5%94%B1%E4%BC%9A&order=1&cty=%E5%8C%97%E4%BA%AC', 'category': '演唱会'}\n",
      "{'href': 'https://search.damai.cn/search.htm?ctl=%E8%AF%9D%E5%89%A7%E6%AD%8C%E5%89%A7&order=1&cty=%E5%8C%97%E4%BA%AC', 'category': '话剧歌剧'}\n",
      "{'href': 'https://search.damai.cn/search.htm?ctl=%E4%BD%93%E8%82%B2&order=1&cty=%E5%8C%97%E4%BA%AC', 'category': '体育'}\n",
      "{'href': 'https://search.damai.cn/search.htm?tn=%E5%84%BF%E7%AB%A5%E4%BA%B2%E5%AD%90&order=1&cty=%E5%8C%97%E4%BA%AC', 'category': '儿童亲子'}\n",
      "{'href': 'https://search.damai.cn/search.htm?ctl=%E5%B1%95%E8%A7%88%E4%BC%91%E9%97%B2&order=1&cty=%E5%8C%97%E4%BA%AC', 'category': '展览休闲'}\n",
      "{'href': 'https://search.damai.cn/search.htm?ctl=%E9%9F%B3%E4%B9%90%E4%BC%9A&order=1&cty=%E5%8C%97%E4%BA%AC', 'category': '音乐会'}\n",
      "{'href': 'https://search.damai.cn/search.htm?ctl=%E6%9B%B2%E8%8B%91%E6%9D%82%E5%9D%9B&order=1&cty=%E5%8C%97%E4%BA%AC', 'category': '曲苑杂坛'}\n",
      "{'href': 'https://search.damai.cn/search.htm?ctl=%E8%88%9E%E8%B9%88%E8%8A%AD%E8%95%BE&order=1&cty=%E5%8C%97%E4%BA%AC', 'category': '舞蹈芭蕾'}\n",
      "{'href': 'https://search.damai.cn/search.htm?tn=%E4%BA%8C%E6%AC%A1%E5%85%83&order=1&cty=%E5%8C%97%E4%BA%AC', 'category': '二次元'}\n",
      "{'href': 'https://search.damai.cn/search.htm?tn=%E6%97%85%E6%B8%B8%E5%B1%95%E8%A7%88&order=1&cty=%E5%8C%97%E4%BA%AC', 'category': '旅游展览'}\n"
     ]
    }
   ],
   "source": [
    "for item in categories:\n",
    "    print(item)\n",
    "    headers = {'User-agent':'Mozilla/5.0 (Windows NT 10.0; Win64; x64) AppleWebKit/537.36 (KHTML, like Gecko) Chrome/122.0.0.0 Safari/537.36'}\n",
    "    source = requests.get(item['href'], headers=headers).content.decode()"
   ]
  },
  {
   "cell_type": "code",
   "execution_count": 66,
   "id": "ffbab9c8-0a74-49e7-baa6-ab8e09fff5b5",
   "metadata": {
    "tags": []
   },
   "outputs": [],
   "source": [
    "headers = {'User-agent':'Mozilla/5.0 (Windows NT 10.0; Win64; x64) AppleWebKit/537.36 (KHTML, like Gecko) Chrome/122.0.0.0 Safari/537.36',\n",
    "          'Cookie': 'cna=9TZjHizX4HkCAQ6RDv38wU3R; xlly_s=1; XSRF-TOKEN=b3baf0af-11da-4611-a978-39f8d6d75f54; isg=BExMGP06RUPb9VG_HgjriqyYHap-hfAvHgb3taYNm_eaMe07zpHMvlzC0TkJeSiH; tfstk=egAvXyNLF0mcQGZFEjHk_-QPKd0oEILVen8QsGj0C3KJ5H3VSmRMeNKM2q8D5mJ92FtKuNm2sLU983KOQqSGfGKM5K0otXY2u156XDcnt8zvE9nhDcUhYE5N104u1vcpuH27o6jbRVZUHcFkZCQjd5dCuDAGnZBAX5j861A7ttsIugNT6iQAH8Lf25N6wgkytB32MkjdS-g-yRyNhayOMQfXFI1KvaInr82aQTbPyM0-yRyNha7Rx4c3QRWlz',\n",
    "          'Referer': 'https://search.damai.cn/search.htm?ctl=%E6%BC%94%E5%94%B1%E4%BC%9A&order=1&cty=%E5%8C%97%E4%BA%AC'}\n",
    "source = requests.get('https://search.damai.cn/searchajax.html?keyword=&cty=%E5%8C%97%E4%BA%AC&ctl=%E6%BC%94%E5%94%B1%E4%BC%9A&sctl=&tsg=0&st=&et=&order=1&pageSize=30&currPage=1&tn=', headers=headers).content.decode()\n",
    "dictionary = json.loads(source)\n",
    "activities = dictionary['pageData']['resultData']"
   ]
  },
  {
   "cell_type": "code",
   "execution_count": 62,
   "id": "fdf65028-566a-481d-9863-887359bad595",
   "metadata": {
    "tags": []
   },
   "outputs": [],
   "source": [
    "# 需要截取的键列表\n",
    "items = []\n",
    "keys_to_extract = ['actors', 'categoryname', 'cityname', 'description', 'name', 'price', 'showtime']\n",
    "for activity in activities:\n",
    "    item = {key: activity[key] for key in keys_to_extract if key in activity}\n",
    "    items.append(item)"
   ]
  },
  {
   "cell_type": "code",
   "execution_count": 65,
   "id": "76e24766-0afc-4b47-8096-19ef274473fd",
   "metadata": {},
   "outputs": [],
   "source": [
    "with open('result.csv', 'w', encoding='utf-8') as f:\n",
    "    writer = csv.DictWriter(f, fieldnames=keys_to_extract)\n",
    "    writer.writeheader()\n",
    "    writer.writerows(items)"
   ]
  }
 ],
 "metadata": {
  "kernelspec": {
   "display_name": "Python 3 (ipykernel)",
   "language": "python",
   "name": "python3"
  },
  "language_info": {
   "codemirror_mode": {
    "name": "ipython",
    "version": 3
   },
   "file_extension": ".py",
   "mimetype": "text/x-python",
   "name": "python",
   "nbconvert_exporter": "python",
   "pygments_lexer": "ipython3",
   "version": "3.10.11"
  }
 },
 "nbformat": 4,
 "nbformat_minor": 5
}
