{
 "cells": [
  {
   "cell_type": "code",
   "execution_count": 3,
   "id": "7bcece7c-46e8-4e62-9cd6-c5d9204e5de7",
   "metadata": {
    "tags": []
   },
   "outputs": [],
   "source": [
    "import requests\n",
    "import lxml.html\n",
    "import csv\n",
    "\n",
    "url = 'https://www.damai.cn/projectlist.do'\n",
    "source = requests.get(url).content\n",
    "\n",
    "selector = lxml.html.fromstring(source)\n",
    "item_list = selector.xpath('//ul[@id=\"performList\"]/li')\n",
    "\n",
    "item_dict_list = []\n",
    "for item in item_list:\n",
    "    show_name = item.xpath('div[@class=\"ri-infos\"]/h2/a/text()')\n",
    "    show_url = item.xpath('div[@class=\"ri-infos\"]/h2/a/@href')\n",
    "    show_description = item.xpath('div[@class=\"ri-infos\"]/p[1]/text()')\n",
    "    show_time = item.xpath('div[@class=\"ri-infos\"]/p[@class=\"mt5\"]/text()')\n",
    "    show_place = item.xpath('div[@class=\"ri-infos\"]/p[@class=\"mt5\"]/span[@class=\"ml20\"]/a/text()')\n",
    "    show_price = item.xpath('div[@class=\"ri-infos\"]/p/span[@class=\"price-sort\"]/text()')\n",
    "\n",
    "    item_dict = {'show_name': show_name[0] if show_name else '',\n",
    "                 'show_url': 'https:' + show_url[0] if show_url else '',\n",
    "                 'show_description': show_description[0] if show_description else '',\n",
    "                 'show_time': show_time[0].strip() if show_time else '',\n",
    "                 'show_place': show_place[0] if show_place else '',\n",
    "                 'show_price': show_price[0] if show_price else ''}\n",
    "    item_dict_list.append(item_dict)\n",
    "\n",
    "with open('result.csv', 'w', encoding='utf-8') as f:\n",
    "    writer = csv.DictWriter(f, fieldnames=['show_name',\n",
    "                                           'show_url',\n",
    "                                           'show_description',\n",
    "                                           'show_time',\n",
    "                                           'show_place',\n",
    "                                           'show_price'])\n",
    "    writer.writeheader()\n",
    "    writer.writerows(item_dict_list)"
   ]
  }
 ],
 "metadata": {
  "kernelspec": {
   "display_name": "Python 3 (ipykernel)",
   "language": "python",
   "name": "python3"
  },
  "language_info": {
   "codemirror_mode": {
    "name": "ipython",
    "version": 3
   },
   "file_extension": ".py",
   "mimetype": "text/x-python",
   "name": "python",
   "nbconvert_exporter": "python",
   "pygments_lexer": "ipython3",
   "version": "3.10.11"
  }
 },
 "nbformat": 4,
 "nbformat_minor": 5
}
