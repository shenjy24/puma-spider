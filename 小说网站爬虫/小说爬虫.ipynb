{
 "cells": [
  {
   "cell_type": "code",
   "execution_count": 18,
   "id": "6ba19a7c-cccd-4e42-ae74-3418e1c051c4",
   "metadata": {
    "tags": []
   },
   "outputs": [],
   "source": [
    "import requests\n",
    "import re\n",
    "import os\n",
    "from multiprocessing.dummy import Pool\n",
    "\n",
    "\n",
    "start_url = 'http://www.kanunu8.com/book3/6879/'\n",
    "\n",
    "\n",
    "def get_source(url):\n",
    "    \"\"\"\n",
    "    获取网页源代码。\n",
    "    :param url: 网址\n",
    "    :return: 网页源代码\n",
    "    \"\"\"\n",
    "    headers = {'User-agent':'Mozilla/5.0 (Windows NT 10.0; Win64; x64) AppleWebKit/537.36 (KHTML, like Gecko) Chrome/122.0.0.0 Safari/537.36'}\n",
    "    html = requests.get(url)\n",
    "    return html.content.decode('gbk') #这个网页需要使用gbk方式解码才能让中文正常显示\n",
    "\n",
    "\n",
    "def get_toc(html):\n",
    "    \"\"\"\n",
    "    获取每一章链接，储存到一个列表中并返回。\n",
    "    :param html: 目录页源代码\n",
    "    :return: 每章链接\n",
    "    \"\"\"\n",
    "    toc_url_list = []\n",
    "    toc_block = re.findall('正文(.*?)</tbody>', html, re.S)[0]\n",
    "    toc_url = re.findall('href=\"(.*?)\"', toc_block, re.S)\n",
    "    for url in toc_url:\n",
    "        toc_url_list.append(start_url + url)\n",
    "    return toc_url_list\n",
    "\n",
    "\n",
    "def get_article(html):\n",
    "    \"\"\"\n",
    "    获取每一章的正文并返回章节名和正文。\n",
    "    :param html: 正文源代码\n",
    "    :return: 章节名，正文\n",
    "    \"\"\"\n",
    "    chapter_name = re.search('size=\"4\">(.*?)<', html, re.S).group(1)\n",
    "    text_block = re.search('<p>(.*?)</p>', html, re.S).group(1)\n",
    "    text_block = text_block.replace('<br />', '')\n",
    "    return chapter_name, text_block\n",
    "\n",
    "\n",
    "def save(chapter, article):\n",
    "    \"\"\"\n",
    "    将每一章保存到本地。\n",
    "    :param chapter: 章节名, 第X章\n",
    "    :param article: 正文内容\n",
    "    :return: None\n",
    "    \"\"\"\n",
    "    os.makedirs('动物农场', exist_ok=True) #如果没有\"动物农场文件夹，就创建一个，如果有，则什么都不做\"\n",
    "    with open(os.path.join('动物农场', chapter + '.txt'), 'w', encoding='utf-8') as f:\n",
    "        f.write(article)\n",
    "\n",
    "\n",
    "def query_article(url):\n",
    "    \"\"\"\n",
    "    根据正文网址获取正文源代码，并调用get_article函数获得正文内容最后保存到本地。\n",
    "    :param url: 正文网址\n",
    "    :return: None\n",
    "    \"\"\"\n",
    "    article_html = get_source(url)\n",
    "    chapter_name, article_text = get_article(article_html)\n",
    "    save(chapter_name, article_text)"
   ]
  },
  {
   "cell_type": "code",
   "execution_count": 19,
   "id": "b6148f44-71c9-45a3-993c-8d1ac6193343",
   "metadata": {
    "tags": []
   },
   "outputs": [
    {
     "data": {
      "text/plain": [
       "[None, None, None, None, None, None, None, None, None, None]"
      ]
     },
     "execution_count": 19,
     "metadata": {},
     "output_type": "execute_result"
    }
   ],
   "source": [
    "toc_html = get_source(start_url)\n",
    "toc_list = get_toc(toc_html)\n",
    "pool = Pool(4)\n",
    "pool.map(query_article, toc_list)"
   ]
  }
 ],
 "metadata": {
  "kernelspec": {
   "display_name": "Python 3 (ipykernel)",
   "language": "python",
   "name": "python3"
  },
  "language_info": {
   "codemirror_mode": {
    "name": "ipython",
    "version": 3
   },
   "file_extension": ".py",
   "mimetype": "text/x-python",
   "name": "python",
   "nbconvert_exporter": "python",
   "pygments_lexer": "ipython3",
   "version": "3.10.11"
  }
 },
 "nbformat": 4,
 "nbformat_minor": 5
}
