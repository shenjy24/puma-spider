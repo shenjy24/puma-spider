{
 "cells": [
  {
   "cell_type": "markdown",
   "id": "f0434344-688f-4d3c-aec5-43d882f6dbeb",
   "metadata": {},
   "source": [
    "### 1. 使用Python读文本文件"
   ]
  },
  {
   "cell_type": "markdown",
   "id": "44d4efe0-2916-4e08-9d0c-b6216ec23348",
   "metadata": {},
   "source": [
    "文件路径可以是绝对路径，也可以是相对路径。如果是绝对路径，Linux和Mac OS不能直接使用“～”表示“home目录”，因为Python不认识“～”这个符号。如果非要使用这个符号，需要使用Python的“os”模块，代码如下："
   ]
  },
  {
   "cell_type": "code",
   "execution_count": 1,
   "id": "cfddc68e-c53e-4418-92d9-df8425efcc7e",
   "metadata": {
    "tags": []
   },
   "outputs": [],
   "source": [
    "import os\n",
    "real_path = os.path.expanduser('~/project/xxx')"
   ]
  },
  {
   "cell_type": "markdown",
   "id": "c8c7f6cf-5736-447e-bfc3-6faf4af6b0c1",
   "metadata": {},
   "source": [
    "相对路径是文本文件相对于现在的**工作区**而言的路径，并不总是相对于当前正在运行的这个Python文件的路径。"
   ]
  },
  {
   "cell_type": "code",
   "execution_count": 2,
   "id": "e8b43a4c-d77c-47d6-a8d8-a7054bd11322",
   "metadata": {
    "tags": []
   },
   "outputs": [
    {
     "name": "stdout",
     "output_type": "stream",
     "text": [
      "['Python\\n', '爬虫从入门到实践\\n', '网页内容提取仅仅是爬虫的一小部分\\n', '真正有技术含量和考验能力的是突破各种反爬虫策略\\n', '以及应用一些反常态的技术获得数据']\n"
     ]
    }
   ],
   "source": [
    "with open('文件操作读文件.txt', encoding='utf-8') as f:\n",
    "    content_list = f.readlines()\n",
    "    print(content_list)"
   ]
  },
  {
   "cell_type": "code",
   "execution_count": 3,
   "id": "35ef790b-ca44-43ca-9a2c-c419a0b2e7f9",
   "metadata": {
    "tags": []
   },
   "outputs": [
    {
     "name": "stdout",
     "output_type": "stream",
     "text": [
      "Python\n",
      "爬虫从入门到实践\n",
      "网页内容提取仅仅是爬虫的一小部分\n",
      "真正有技术含量和考验能力的是突破各种反爬虫策略\n",
      "以及应用一些反常态的技术获得数据\n"
     ]
    }
   ],
   "source": [
    "# 直接把文件里面的全部内容用一个字符串返回\n",
    "with open('文件操作读文件.txt', encoding='utf-8') as f:\n",
    "    content_list = f.read()\n",
    "    print(content_list)"
   ]
  },
  {
   "cell_type": "markdown",
   "id": "97fe5242-c203-4af6-81ed-069a347221b6",
   "metadata": {},
   "source": [
    "### 2. 使用Python写文本文件"
   ]
  },
  {
   "cell_type": "code",
   "execution_count": 5,
   "id": "5f620f56-d028-4d8b-aa54-7a147436e74f",
   "metadata": {
    "tags": []
   },
   "outputs": [],
   "source": [
    "# 直接写一大段文字\n",
    "with open('文件操作写文件.txt', 'w', encoding='utf-8') as f:\n",
    "    f.write(\"一大段文字\")"
   ]
  },
  {
   "cell_type": "markdown",
   "id": "5e11051c-8cf0-4c4f-96da-89a326ff5d0f",
   "metadata": {},
   "source": [
    "这里多出来一个参数“w”, w是英文write的首字母，意思是以写的方式打开文件。这个参数除了为“w”外，还可以为“a”。\n",
    "\n",
    "它们的区别在于，如果原来已经有一个new.txt文件了，使用“w”会覆盖原来的文件，导致原来的内容丢失；而使用“a”，则会把新的内容写到原来的文件末尾。"
   ]
  },
  {
   "cell_type": "code",
   "execution_count": 7,
   "id": "60f756f6-f9e6-4d85-a880-8fd9fb5f0413",
   "metadata": {
    "tags": []
   },
   "outputs": [],
   "source": [
    "# 把列表里面的所有字符串写入到文本中\n",
    "with open('文件操作写文件.txt', 'w', encoding='utf-8') as f:\n",
    "    f.writelines(['第一段话', '第二段话', '第三段话'])"
   ]
  },
  {
   "cell_type": "markdown",
   "id": "cc7fb161-aaf6-4f51-bc44-eafb6e35e8e7",
   "metadata": {},
   "source": [
    "- 需要特别注意，写列表的时候，Python写到文本中的文字是不会自动换行的，需要人工输入换行符才可以。"
   ]
  },
  {
   "cell_type": "code",
   "execution_count": 1,
   "id": "a62feb7a-a43e-4d6f-8a80-6f8beb077ce4",
   "metadata": {
    "tags": []
   },
   "outputs": [],
   "source": [
    "with open('文件操作写文件.txt', 'w', encoding='utf-8') as f:\n",
    "    f.write('你好')\n",
    "    f.write('\\n========\\n')\n",
    "    f.writelines(['嘿嘿', '跟我学爬虫'])\n",
    "    f.write('\\n========\\n')\n",
    "    f.writelines(['爬虫开发\\n', '看这本书就够了\\n'])"
   ]
  },
  {
   "cell_type": "markdown",
   "id": "c2be8269-4c8e-47a8-8499-0ff9b1923c60",
   "metadata": {
    "tags": []
   },
   "source": [
    "### 3. 使用Python读/写CSV文件"
   ]
  },
  {
   "cell_type": "code",
   "execution_count": 3,
   "id": "03a98f46-e859-4542-aeaa-f76644aa4940",
   "metadata": {
    "tags": []
   },
   "outputs": [],
   "source": [
    "import csv"
   ]
  },
  {
   "cell_type": "markdown",
   "id": "2b1e2120-c6b4-461d-aef6-8fc580b47f0c",
   "metadata": {},
   "source": [
    "#### (1) Python写CSV文件"
   ]
  },
  {
   "cell_type": "markdown",
   "id": "cf19d529-e101-4504-bf66-20f9cb838c2a",
   "metadata": {},
   "source": [
    "Python可以把一个字典写成CSV文件，或者把一个包含字典的列表写成CSV文件。"
   ]
  },
  {
   "cell_type": "code",
   "execution_count": 5,
   "id": "4b22eaa2-eba6-4d84-be2d-9073897a5783",
   "metadata": {
    "tags": []
   },
   "outputs": [],
   "source": [
    "data = [{'name': 'kingname', 'age': 24, 'salary': 99999},\n",
    "       {'name': 'jonas', 'age': 20, 'salary': 1000000},\n",
    "       {'name': '小明', 'age': 10, 'salary': 'N/A'}]\n",
    "with open('文件操作csv文件.csv', 'w', encoding='utf-8') as f:\n",
    "    writer = csv.DictWriter(f, fieldnames=['name', 'age', 'salary'])\n",
    "    writer.writeheader()\n",
    "    writer.writerows(data)\n",
    "    writer.writerow({'name': '超人', 'age': 100, 'salary': 0})"
   ]
  },
  {
   "cell_type": "markdown",
   "id": "4cbd87dd-ab05-4e28-9a09-5d716db341c6",
   "metadata": {},
   "source": [
    "#### (2) Python读CSV文件"
   ]
  },
  {
   "cell_type": "code",
   "execution_count": 7,
   "id": "2b0489b7-227e-419f-b143-c9c12bb3fe24",
   "metadata": {
    "tags": []
   },
   "outputs": [
    {
     "name": "stdout",
     "output_type": "stream",
     "text": [
      "{'name': 'kingname', 'age': '24', 'salary': '99999'}\n",
      "姓名：kingname，年龄：24, 薪水：99999\n",
      "{'name': 'jonas', 'age': '20', 'salary': '1000000'}\n",
      "姓名：jonas，年龄：20, 薪水：1000000\n",
      "{'name': '小明', 'age': '10', 'salary': 'N/A'}\n",
      "姓名：小明，年龄：10, 薪水：N/A\n",
      "{'name': '超人', 'age': '100', 'salary': '0'}\n",
      "姓名：超人，年龄：100, 薪水：0\n"
     ]
    }
   ],
   "source": [
    "with open('文件操作csv文件.csv', encoding='utf-8') as f:\n",
    "    reader = csv.DictReader(f)\n",
    "    for row in reader:\n",
    "        print(row)\n",
    "        print('姓名：{}，年龄：{}, 薪水：{}'.format(row['name'], row['age'], row['salary']))"
   ]
  },
  {
   "cell_type": "markdown",
   "id": "3548c2b1-830c-4f4a-afa6-723c5e258778",
   "metadata": {},
   "source": [
    "#### 使用列表推导式读取文本内容"
   ]
  },
  {
   "cell_type": "code",
   "execution_count": 8,
   "id": "dc1de9ad-912e-4e12-a795-92b03c09f638",
   "metadata": {
    "tags": []
   },
   "outputs": [
    {
     "name": "stdout",
     "output_type": "stream",
     "text": [
      "{'name': 'kingname', 'age': '24', 'salary': '99999'}\n",
      "姓名：kingname，年龄：24, 薪水：99999\n",
      "{'name': 'jonas', 'age': '20', 'salary': '1000000'}\n",
      "姓名：jonas，年龄：20, 薪水：1000000\n",
      "{'name': '小明', 'age': '10', 'salary': 'N/A'}\n",
      "姓名：小明，年龄：10, 薪水：N/A\n",
      "{'name': '超人', 'age': '100', 'salary': '0'}\n",
      "姓名：超人，年龄：100, 薪水：0\n"
     ]
    }
   ],
   "source": [
    "with open('文件操作csv文件.csv', encoding='utf-8') as f:\n",
    "    reader = [x for x in csv.DictReader(f)]\n",
    "    \n",
    "for row in reader:\n",
    "    print(row)\n",
    "    print('姓名：{}，年龄：{}, 薪水：{}'.format(row['name'], row['age'], row['salary']))"
   ]
  }
 ],
 "metadata": {
  "kernelspec": {
   "display_name": "Python 3 (ipykernel)",
   "language": "python",
   "name": "python3"
  },
  "language_info": {
   "codemirror_mode": {
    "name": "ipython",
    "version": 3
   },
   "file_extension": ".py",
   "mimetype": "text/x-python",
   "name": "python",
   "nbconvert_exporter": "python",
   "pygments_lexer": "ipython3",
   "version": "3.10.11"
  }
 },
 "nbformat": 4,
 "nbformat_minor": 5
}
