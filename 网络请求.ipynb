{
 "cells": [
  {
   "cell_type": "code",
   "execution_count": 1,
   "id": "dfae0616-1de3-499c-a735-f5847f655829",
   "metadata": {
    "tags": []
   },
   "outputs": [],
   "source": [
    "import requests"
   ]
  },
  {
   "cell_type": "markdown",
   "id": "66129beb-cf6a-411e-aebe-d143b46e3ae8",
   "metadata": {},
   "source": [
    "## 一. requests 网络请求"
   ]
  },
  {
   "cell_type": "markdown",
   "id": "44aadc22-70ff-4290-bbd0-836189483bd3",
   "metadata": {},
   "source": [
    "### 1. get请求"
   ]
  },
  {
   "cell_type": "code",
   "execution_count": 2,
   "id": "909333a8-6137-45f0-a933-930a850b1eab",
   "metadata": {
    "tags": []
   },
   "outputs": [
    {
     "data": {
      "text/plain": [
       "'<!DOCTYPE html>\\n<html lang=\"en\">\\n<head>\\n<meta charset=\"UTF-8\">\\n<title>GET 测试</title>\\n</head>\\n<body>\\n<p>如果你可以看到这一段话，那么说明你已经知道如何通过</p>\\n<p>requests获得GET方式网页的源代码。</p>\\n</body>\\n</html>'"
      ]
     },
     "execution_count": 2,
     "metadata": {},
     "output_type": "execute_result"
    }
   ],
   "source": [
    "get_website = 'http://exercise.kingname.info/exercise_requests_get.html'\n",
    "html = requests.get(get_website).content.decode()\n",
    "html"
   ]
  },
  {
   "cell_type": "markdown",
   "id": "cc4793cc-78e0-4959-898b-231542b3c754",
   "metadata": {},
   "source": [
    "### 2. post请求"
   ]
  },
  {
   "cell_type": "code",
   "execution_count": 4,
   "id": "f8e17024-88e0-4ecd-aeb0-e7ec08806031",
   "metadata": {
    "tags": []
   },
   "outputs": [
    {
     "data": {
      "text/plain": [
       "'<!DOCTYPE html>\\n<html lang=\"en\">\\n<head>\\n<meta charset=\"UTF-8\">\\n<title>POST 测试</title>\\n</head>\\n<body>\\n<p>恭喜恭喜，你现在使用的是POST方式访问本页，通过Formdata提交数据，你提交的数据为：</p>\\n<p>Name: Tom</p>\\n<p>Password: 123456</p>\\n</body>\\n</html>'"
      ]
     },
     "execution_count": 4,
     "metadata": {},
     "output_type": "execute_result"
    }
   ],
   "source": [
    "post_website = 'http://exercise.kingname.info/exercise_requests_post'\n",
    "data = {'name': 'Tom', 'password': '123456'}\n",
    "# 使用表单格式提交\n",
    "html_formdata = requests.post(post_website, data=data).content.decode()\n",
    "html_formdata"
   ]
  },
  {
   "cell_type": "code",
   "execution_count": 6,
   "id": "20c370fe-680c-4e79-8a30-4757df9be5e5",
   "metadata": {
    "tags": []
   },
   "outputs": [
    {
     "data": {
      "text/plain": [
       "'<!DOCTYPE html>\\n<html lang=\"en\">\\n<head>\\n<meta charset=\"UTF-8\">\\n<title>POST 测试</title>\\n</head>\\n<body>\\n<p>恭喜恭喜，你现在使用的是POST方式访问本页，通过JSON提交数据，你提交的数据为：</p>\\n<p>Name: Tom</p>\\n<p>Password: 123456</p>\\n</body>\\n</html>'"
      ]
     },
     "execution_count": 6,
     "metadata": {},
     "output_type": "execute_result"
    }
   ],
   "source": [
    "# 使用JSON格式提交\n",
    "html_json = requests.post(post_website, json=data).content.decode()\n",
    "html_json"
   ]
  },
  {
   "cell_type": "markdown",
   "id": "3297d3e4-2b3e-47d8-a45a-671209c22c3e",
   "metadata": {},
   "source": [
    "## 二. requests 与正则表达式"
   ]
  },
  {
   "cell_type": "code",
   "execution_count": 7,
   "id": "4314b7c4-8086-423b-8d5e-2a7a9620b225",
   "metadata": {
    "tags": []
   },
   "outputs": [
    {
     "name": "stdout",
     "output_type": "stream",
     "text": [
      "页面标题为：POST 测试\n",
      "页面正文为：\n",
      "恭喜恭喜，你现在使用的是POST方式访问本页，通过JSON提交数据，你提交的数据为：\n",
      "Name: Tom\n",
      "Password: 123456\n"
     ]
    }
   ],
   "source": [
    "# 将标题和内容通过正则表达式截取下来\n",
    "import re\n",
    "\n",
    "title = re.search('title>(.*?)<', html_json, re.S).group(1)\n",
    "content_list = re.findall('<p>(.*?)<', html_json, re.S)\n",
    "content_str = '\\n'.join(content_list)\n",
    "print(f'页面标题为：{title}')\n",
    "print(f'页面正文为：\\n{content_str}')"
   ]
  },
  {
   "cell_type": "code",
   "execution_count": null,
   "id": "c70f58f1-b509-4044-a7a9-cbb99f171f1d",
   "metadata": {},
   "outputs": [],
   "source": []
  }
 ],
 "metadata": {
  "kernelspec": {
   "display_name": "Python 3 (ipykernel)",
   "language": "python",
   "name": "python3"
  },
  "language_info": {
   "codemirror_mode": {
    "name": "ipython",
    "version": 3
   },
   "file_extension": ".py",
   "mimetype": "text/x-python",
   "name": "python",
   "nbconvert_exporter": "python",
   "pygments_lexer": "ipython3",
   "version": "3.10.11"
  }
 },
 "nbformat": 4,
 "nbformat_minor": 5
}
