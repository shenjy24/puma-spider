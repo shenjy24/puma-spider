{
 "cells": [
  {
   "cell_type": "code",
   "execution_count": 2,
   "id": "f022357f-2a6a-4a5a-85bb-2f18ae9c54c9",
   "metadata": {
    "tags": []
   },
   "outputs": [],
   "source": [
    "from bs4 import BeautifulSoup\n",
    "import requests\n",
    "import re"
   ]
  },
  {
   "cell_type": "markdown",
   "id": "778b3a69-28c2-4168-a568-58a9294e371c",
   "metadata": {},
   "source": [
    "### 一. 提取步骤"
   ]
  },
  {
   "cell_type": "markdown",
   "id": "8b5f8152-d456-4580-afd3-3f0d6cd9c26c",
   "metadata": {},
   "source": [
    "使用Beautiful Soup4提取HTML内容，一般要经过以下两步。\n",
    "1. 处理源代码生成BeautifulSoup对象。\n",
    "2. 使用find_all()或者find()来查找内容。"
   ]
  },
  {
   "cell_type": "markdown",
   "id": "17b17a90-ffa1-465e-b6c8-0d90588620a1",
   "metadata": {},
   "source": [
    "#### 1. 解析源代码"
   ]
  },
  {
   "cell_type": "code",
   "execution_count": 6,
   "id": "47a362fa-f10e-44b5-acd9-266156ac210e",
   "metadata": {
    "tags": []
   },
   "outputs": [
    {
     "data": {
      "text/plain": [
       "'<html>\\n<head>\\n<title>测试</title>\\n</head>\\n<body>\\n<div class=\"useful\">\\n<ul>\\n<li class=\"info\">我需要的信息1</li>\\n<li class=\"test\">我需要的信息2</li>\\n<li class=\"iamstrange\">我需要的信息3</li>\\n</ul>\\n</div>\\n<div class=\"useless\">\\n<ul>\\n<li class=\"info\">垃圾1</li>\\n<li class=\"info\">垃圾2</li>\\n</ul>\\n</div>\\n</body>\\n</html>'"
      ]
     },
     "execution_count": 6,
     "metadata": {},
     "output_type": "execute_result"
    }
   ],
   "source": [
    "html = requests.get('http://exercise.kingname.info/exercise_bs_1.html').content.decode()\n",
    "soup = BeautifulSoup(html, 'lxml')\n",
    "html"
   ]
  },
  {
   "cell_type": "markdown",
   "id": "281bf5d8-479b-4c3a-b926-58040f37d4a5",
   "metadata": {},
   "source": [
    "#### 2. 查找内容"
   ]
  },
  {
   "cell_type": "code",
   "execution_count": 5,
   "id": "49693812-6a53-4c21-a24d-5559c6bff126",
   "metadata": {
    "tags": []
   },
   "outputs": [
    {
     "name": "stdout",
     "output_type": "stream",
     "text": [
      "使用find方法，返回的对象类型为：<class 'bs4.element.Tag'>\n",
      "我需要的信息2\n"
     ]
    }
   ],
   "source": [
    "info = soup.find(class_='test')\n",
    "print(f'使用find方法，返回的对象类型为：{type(info)}')\n",
    "print(info.string)"
   ]
  },
  {
   "cell_type": "code",
   "execution_count": 7,
   "id": "11c9c985-9fcd-406e-ab72-9cc6d240ff77",
   "metadata": {
    "tags": []
   },
   "outputs": [
    {
     "name": "stdout",
     "output_type": "stream",
     "text": [
      "我需要的信息1\n",
      "我需要的信息2\n",
      "我需要的信息3\n"
     ]
    }
   ],
   "source": [
    "# 先抓大再抓小\n",
    "useful = soup.find(class_='useful')\n",
    "all_content = useful.find_all('li')\n",
    "for li in all_content:\n",
    "    print(li.string)"
   ]
  },
  {
   "cell_type": "markdown",
   "id": "b2d3c0db-e203-44f4-9f77-8492990541b1",
   "metadata": {},
   "source": [
    "find 与 find_all 的不同点：\n",
    "- find_all()返回的是BeautifulSoup Tag对象组成的列表，如果没有找到任何满足要求的标签，就会返回空列表。\n",
    "- find()返回的是一个BeautifulSoup Tag对象，如果有多个符合条件的HTML标签，则返回第1个对象，如果找不到就会返回None。"
   ]
  },
  {
   "cell_type": "code",
   "execution_count": null,
   "id": "7524d819-9d45-46cb-a323-a24166faa870",
   "metadata": {},
   "outputs": [],
   "source": []
  }
 ],
 "metadata": {
  "kernelspec": {
   "display_name": "Python 3 (ipykernel)",
   "language": "python",
   "name": "python3"
  },
  "language_info": {
   "codemirror_mode": {
    "name": "ipython",
    "version": 3
   },
   "file_extension": ".py",
   "mimetype": "text/x-python",
   "name": "python",
   "nbconvert_exporter": "python",
   "pygments_lexer": "ipython3",
   "version": "3.10.11"
  }
 },
 "nbformat": 4,
 "nbformat_minor": 5
}
