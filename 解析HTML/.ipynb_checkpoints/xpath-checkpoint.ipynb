{
 "cells": [
  {
   "cell_type": "code",
   "execution_count": 2,
   "id": "6a553524-7cf5-4eb7-b97d-cea981850b44",
   "metadata": {
    "tags": []
   },
   "outputs": [],
   "source": [
    "import lxml.html"
   ]
  },
  {
   "cell_type": "markdown",
   "id": "ed3db120-f569-40fb-8ac3-e040b3162b02",
   "metadata": {},
   "source": [
    "### 一. 入门示例"
   ]
  },
  {
   "cell_type": "code",
   "execution_count": 3,
   "id": "bc7ae452-00ea-4459-b1f3-1df0af071d23",
   "metadata": {
    "tags": []
   },
   "outputs": [
    {
     "name": "stdout",
     "output_type": "stream",
     "text": [
      "['我需要的信息1', '我需要的信息2', '我需要的信息3']\n"
     ]
    }
   ],
   "source": [
    "source = '''\n",
    "<html>\n",
    "    <head>\n",
    "      <title>测试</title>\n",
    "  </head>\n",
    "  <body>\n",
    "      <div class=\"useful\">\n",
    "          <ul>\n",
    "            <li class=\"info\">我需要的信息1</li>\n",
    "            <li class=\"info\">我需要的信息2</li>\n",
    "            <li class=\"info\">我需要的信息3</li>\n",
    "          </ul>\n",
    "      </div>\n",
    "      <div class=\"useless\">\n",
    "          <ul>\n",
    "            <li class=\"info\">垃圾1</li>\n",
    "            <li class=\"info\">垃圾2</li>\n",
    "          </ul>\n",
    "      </div>\n",
    "    </body>\n",
    "</html>\n",
    "'''\n",
    "selector = lxml.html.fromstring(source)\n",
    "info = selector.xpath('//div[@class=\"useful\"]/ul/li/text()')\n",
    "print(info)"
   ]
  },
  {
   "cell_type": "markdown",
   "id": "0986d648-dc17-4055-8c38-cd6990077b8d",
   "metadata": {},
   "source": [
    "### 二. starts-with 用法"
   ]
  },
  {
   "cell_type": "code",
   "execution_count": 4,
   "id": "256fec0f-8b26-46d9-97ca-79378f208c97",
   "metadata": {
    "tags": []
   },
   "outputs": [
    {
     "name": "stdout",
     "output_type": "stream",
     "text": [
      "['需要的内容1', '需要的内容2', '需要的内容3']\n"
     ]
    }
   ],
   "source": [
    "source = '''\n",
    "<! DOCTYPE html>\n",
    "<html>\n",
    "    <head lang=\"en\">\n",
    "        <meta charset=\"UTF-8\">\n",
    "        <title></title>\n",
    "    </head>\n",
    "    <body>\n",
    "        <div id=\"test-1\">需要的内容1</div>\n",
    "        <div id=\"test-2\">需要的内容2</div>\n",
    "        <div id=\"testfault\">需要的内容3</div>\n",
    "        <div id=\"useless\">这是我不需要的内容</div>\n",
    "    </body>\n",
    "</html>\n",
    "'''\n",
    "selector = lxml.html.fromstring(source)\n",
    "info = selector.xpath('//div[starts-with(@id, \"test\")]/text()')\n",
    "print(info)"
   ]
  },
  {
   "cell_type": "markdown",
   "id": "37f8d336-c05f-4209-996a-2e0c00b1c9bf",
   "metadata": {},
   "source": [
    "### 三. contains 用法"
   ]
  },
  {
   "cell_type": "code",
   "execution_count": 5,
   "id": "12299edd-0121-451e-b7b6-6c5d0f507edb",
   "metadata": {
    "tags": []
   },
   "outputs": [
    {
     "name": "stdout",
     "output_type": "stream",
     "text": [
      "['需要的内容1', '需要的内容2', '需要的内容3']\n"
     ]
    }
   ],
   "source": [
    "source = '''\n",
    "<! DOCTYPE html>\n",
    "<html>\n",
    "    <head lang=\"en\">\n",
    "        <meta charset=\"UTF-8\">\n",
    "        <title></title>\n",
    "    </head>\n",
    "    <body>\n",
    "        <div id=\"abc-key-x\">需要的内容1</div>\n",
    "        <div id=\"123-key-000\">需要的内容2</div>\n",
    "        <div id=\"haha-key\">需要的内容3</div>\n",
    "        <div id=\"useless\">这是我不需要的内容</div>\n",
    "    </body>\n",
    "</html>\n",
    "'''\n",
    "selector = lxml.html.fromstring(source)\n",
    "info = selector.xpath('//div[contains(@id, \"key\")]/text()')\n",
    "print(info)"
   ]
  },
  {
   "cell_type": "markdown",
   "id": "733eba15-ffa6-46d0-b1b6-2780eb4a33a9",
   "metadata": {},
   "source": [
    "### 四. 对XPath返回的对象执行XPath"
   ]
  },
  {
   "cell_type": "code",
   "execution_count": 6,
   "id": "53aba77f-0a3f-455d-aa15-18c981db906b",
   "metadata": {
    "tags": []
   },
   "outputs": [
    {
     "name": "stdout",
     "output_type": "stream",
     "text": [
      "['我需要的信息1', '我需要的信息2', '我需要的信息3']\n"
     ]
    }
   ],
   "source": [
    "source = '''\n",
    "<html>\n",
    "    <head>\n",
    "      <title>测试</title>\n",
    "  </head>\n",
    "  <body>\n",
    "      <div class=\"useful\">\n",
    "          <ul>\n",
    "            <li class=\"info\">我需要的信息1</li>\n",
    "            <li class=\"info\">我需要的信息2</li>\n",
    "            <li class=\"info\">我需要的信息3</li>\n",
    "          </ul>\n",
    "      </div>\n",
    "      <div class=\"useless\">\n",
    "          <ul>\n",
    "            <li class=\"info\">垃圾1</li>\n",
    "            <li class=\"info\">垃圾2</li>\n",
    "          </ul>\n",
    "      </div>\n",
    "    </body>\n",
    "</html>\n",
    "'''\n",
    "selector = lxml.html.fromstring(source)\n",
    "useful = selector.xpath('//div[@class=\"useful\"]')\n",
    "info_list = useful[0].xpath('ul/li/text()')\n",
    "print(info_list)"
   ]
  },
  {
   "cell_type": "markdown",
   "id": "d2767fa1-6da2-423c-9dcf-5a4c38ba1475",
   "metadata": {},
   "source": [
    "> 需要注意的是，在对XPath返回的对象再次执行XPath的时候，子XPath开头不需要添加斜线，直接以标签名开始即可。"
   ]
  },
  {
   "cell_type": "markdown",
   "id": "4f942437-b5fe-47bc-a5e3-e4f85b798139",
   "metadata": {},
   "source": [
    "### 五. 不同标签下的文字"
   ]
  },
  {
   "cell_type": "code",
   "execution_count": 7,
   "id": "48f0ac12-6c2f-4ab6-8516-bf5b1bae5af7",
   "metadata": {
    "tags": []
   },
   "outputs": [
    {
     "name": "stdout",
     "output_type": "stream",
     "text": [
      "['\\n          我左青龙，\\n          ', '\\n          龙头在胸口。\\n        ']\n"
     ]
    }
   ],
   "source": [
    "source = '''\n",
    "<! DOCTYPE html>\n",
    "<html>\n",
    "    <head lang=\"en\">\n",
    "        <meta charset=\"UTF-8\">\n",
    "        <title></title>\n",
    "    </head>\n",
    "    <body>\n",
    "        <div id=\"test3\">\n",
    "          我左青龙，\n",
    "          <span id=\"tiger\">\n",
    "              右白虎，\n",
    "              <ul>上朱雀，\n",
    "                  <li>下玄武。</li>\n",
    "              </ul>\n",
    "              老牛在当中，\n",
    "          </span>\n",
    "          龙头在胸口。\n",
    "        </div>\n",
    "    </body>\n",
    "</html>\n",
    "'''\n",
    "selector = lxml.html.fromstring(source)\n",
    "# XPath不会自动把子标签的文字提取出来\n",
    "info = selector.xpath('//div[@id=\"test3\"]/text()')\n",
    "print(info)"
   ]
  },
  {
   "cell_type": "code",
   "execution_count": 9,
   "id": "39bdf154-e882-4ffa-bbac-9198b69a07b4",
   "metadata": {
    "tags": []
   },
   "outputs": [
    {
     "name": "stdout",
     "output_type": "stream",
     "text": [
      "\n",
      "          我左青龙，\n",
      "          \n",
      "              右白虎，\n",
      "              上朱雀，\n",
      "                  下玄武。\n",
      "              \n",
      "              老牛在当中，\n",
      "          \n",
      "          龙头在胸口。\n",
      "        \n"
     ]
    }
   ],
   "source": [
    "# 正确写法\n",
    "data = selector.xpath('//div[@id=\"test3\"]')[0]\n",
    "info = data.xpath('string(.)')\n",
    "print(info)"
   ]
  },
  {
   "cell_type": "markdown",
   "id": "bb283962-081a-4663-a1d4-e6459c8c2e1a",
   "metadata": {},
   "source": [
    "### 六. 使用Google Chrome辅助构造XPath"
   ]
  },
  {
   "cell_type": "markdown",
   "id": "68edfc21-2234-4980-9f49-40736548f65b",
   "metadata": {},
   "source": [
    "在高亮的源代码上单击右键并选择“Copy”→“Copy XPath”命令"
   ]
  },
  {
   "cell_type": "markdown",
   "id": "d3c80763-af63-45e8-8484-1079e4bf3de2",
   "metadata": {},
   "source": [
    "Google Chrome给出的XPath是当前高亮的这一个标签的XPath，被lxml执行以后，也只能得到这一个标签的信息。为了得到一类标签的信息，例如得到所有帖子的标题，就需要将Google Chrome给出的XPath为参考，手动构造范围更大的且更容易读的XPath。例如，Google Chrome给出了一个标志性的id，它的属性值为“thread_list”，那么拥有这个属性的标签就可以作为XPath的起始标签。现在，在Google Chrome给出的这个标签和需要提取的内容之间进行人工分析，可以进一步缩小XPath的范围。"
   ]
  },
  {
   "cell_type": "code",
   "execution_count": null,
   "id": "1aca9aa8-cfd8-46eb-9595-d94a30348a1b",
   "metadata": {},
   "outputs": [],
   "source": []
  }
 ],
 "metadata": {
  "kernelspec": {
   "display_name": "Python 3 (ipykernel)",
   "language": "python",
   "name": "python3"
  },
  "language_info": {
   "codemirror_mode": {
    "name": "ipython",
    "version": 3
   },
   "file_extension": ".py",
   "mimetype": "text/x-python",
   "name": "python",
   "nbconvert_exporter": "python",
   "pygments_lexer": "ipython3",
   "version": "3.10.11"
  }
 },
 "nbformat": 4,
 "nbformat_minor": 5
}
